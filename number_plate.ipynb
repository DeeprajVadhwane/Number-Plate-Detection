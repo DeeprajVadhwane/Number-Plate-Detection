{
 "cells": [
  {
   "cell_type": "code",
   "execution_count": null,
   "metadata": {},
   "outputs": [],
   "source": [
    "import cv2\n",
    "import numpy as np \n",
    "\n",
    "frame_width = 640\n",
    "frame_height = 480\n",
    "cascade = cv2.CascadeClassifier(\"Resources\\haarcascade_russian_plate_number.xml\")\n",
    "min_area = 500\n",
    "counter = 0\n",
    "\n",
    "cap = cv2.VideoCapture(0)\n",
    "cap.set(3,frame_width)   \n",
    "cap.set(4,frame_height)   \n",
    "cap.set(10,150)           ##Changing brightness to 150\n",
    "\n",
    "while True:\n",
    "    success, img = cap.read()\n",
    "    img_gray = cv2.cvtColor(img, cv2.COLOR_BGR2GRAY)\n",
    "\n",
    "    \"\"\"Using pretrained OpenCV number plate cascade\"\"\"\n",
    "\n",
    "    number_plates = cascade.detectMultiScale(img_gray, 1.1, 5)\n",
    "\n",
    "    \"\"\"Creating boundary boxes around detected number plates\"\"\"\n",
    "\n",
    "    for (x,y,w,h) in number_plates:\n",
    "        area = w*h\n",
    "        if area > min_area:\n",
    "            cv2.rectangle(img, (x,y), (x+w, y+h), (255,0,255),2)\n",
    "            cv2.putText(img, \"Number Plate\",(x,y-5), \n",
    "                        cv2.FONT_HERSHEY_COMPLEX_SMALL, 1, (255,0,255), 2)\n",
    "            \n",
    "            \"\"\"Picking the number plate from the caption\"\"\"\n",
    "\n",
    "            img_roi = img[y:y+h, x:x+w]\n",
    "            cv2.imshow(\"Region of Interest\", img_roi)\n",
    "\n",
    "    cv2.imshow(\"Capture\", img)\n",
    "\n",
    "    \"\"\"Saving the captured number plate to the Scanned file by pressing the 's' key\"\"\"\n",
    "\n",
    "    if cv2.waitKey(1) & 0xFF == ord(\"s\"):\n",
    "        cv2.imwrite(\"Resources/Scanned/NoPlate_\"+str(counter)+\".jpg\",img_roi)\n",
    "\n",
    "        \"\"\"Creating a message that will show on the screen when a number plate successfully saved\"\"\"\n",
    "\n",
    "        cv2.rectangle(img, (0,200), (640,300), (0,255,0), cv2.FILLED)\n",
    "        cv2.putText(img, \"Scan Saved\", (150,265),cv2.FONT_HERSHEY_COMPLEX,2,(0,0,255),2)\n",
    "        cv2.imshow(\"Result\", img)\n",
    "        # cv2.waitKey(5)\n",
    "        if cv2.waitKey(1)==ord('q'):\n",
    "            break\n",
    "        \n",
    "        counter +=1 \n",
    "\n",
    "cap.release()\n",
    "\n",
    "cv2.destroyAllWindows()\n"
   ]
  }
 ],
 "metadata": {
  "kernelspec": {
   "display_name": "Python 3.10.2 64-bit",
   "language": "python",
   "name": "python3"
  },
  "language_info": {
   "codemirror_mode": {
    "name": "ipython",
    "version": 3
   },
   "file_extension": ".py",
   "mimetype": "text/x-python",
   "name": "python",
   "nbconvert_exporter": "python",
   "pygments_lexer": "ipython3",
   "version": "3.10.2"
  },
  "orig_nbformat": 4,
  "vscode": {
   "interpreter": {
    "hash": "97bde49520de24e776a17c26ec3580316ff82e8d0afb42b508215e94e24ab9bb"
   }
  }
 },
 "nbformat": 4,
 "nbformat_minor": 2
}
